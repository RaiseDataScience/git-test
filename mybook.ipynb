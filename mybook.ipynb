{
 "metadata": {
  "name": "",
  "signature": "sha256:ecc4ba674debc2afaa613633828c8e38bd472e145d8096070d025d7c23b0377e"
 },
 "nbformat": 3,
 "nbformat_minor": 0,
 "worksheets": [
  {
   "cells": [
    {
     "cell_type": "markdown",
     "metadata": {},
     "source": [
      "#Welcome to this notebook\n",
      "This is an ipython notebook that I'm using to test out some git merge/rebase stuff."
     ]
    },
    {
     "cell_type": "code",
     "collapsed": false,
     "input": [
      "## This is a toy function\n",
      "def foo(x):\n",
      "    print 'foo!'\n",
      "    return x"
     ],
     "language": "python",
     "metadata": {},
     "outputs": []
    },
    {
     "cell_type": "code",
     "collapsed": false,
     "input": [
      "foo('f')"
     ],
     "language": "python",
     "metadata": {},
     "outputs": []
    },
    {
     "cell_type": "code",
     "collapsed": false,
     "input": [
      "foo(12)"
     ],
     "language": "python",
     "metadata": {},
     "outputs": []
    },
    {
     "cell_type": "code",
     "collapsed": false,
     "input": [
      "import pandas as pd"
     ],
     "language": "python",
     "metadata": {},
     "outputs": []
    },
    {
     "cell_type": "markdown",
     "metadata": {},
     "source": [
      "#What's this about?\n",
      "I made this notebook to test out how merge conflicts are noted, and how those notes are rendered, in iPython notebooks.\n",
      "\n"
     ]
    },
    {
     "cell_type": "code",
     "collapsed": false,
     "input": [],
     "language": "python",
     "metadata": {},
     "outputs": []
    }
   ],
   "metadata": {}
  }
 ]
}